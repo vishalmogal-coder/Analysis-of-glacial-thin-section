{
 "cells": [
  {
   "cell_type": "code",
   "execution_count": 8,
   "metadata": {},
   "outputs": [],
   "source": [
    "import cv2\n",
    "\n",
    "from PIL import Image"
   ]
  },
  {
   "cell_type": "code",
   "execution_count": 10,
   "metadata": {},
   "outputs": [],
   "source": [
    "bg = cv2.imread('E:\\\\Diseration\\\\Alex\\\\clast-analysis-data\\\\processed_data\\\\LABELLED\\\\N13920IMG-0.jpg', cv2.IMREAD_COLOR) \n",
    "fg = cv2.imread('E:\\\\Diseration\\\\Alex\\\\clast-analysis-data\\\\processed_data\\\\RAW\\\\N13920IMG-0.jpg', cv2.IMREAD_COLOR)"
   ]
  },
  {
   "cell_type": "code",
   "execution_count": 19,
   "metadata": {},
   "outputs": [],
   "source": [
    "blend = cv2.addWeighted(bg, 0.5,fg, 0.8, 0.0)"
   ]
  },
  {
   "cell_type": "code",
   "execution_count": 13,
   "metadata": {},
   "outputs": [],
   "source": [
    "Img1 = Image.open('E:\\\\Diseration\\\\Alex\\\\clast-analysis-data\\\\processed_data\\\\LABELLED\\\\N13920IMG-0.jpg') \n",
    "Img2= Image.open('E:\\\\Diseration\\\\Alex\\\\clast-analysis-data\\\\processed_data\\\\RAW\\\\N13920IMG-0.jpg')"
   ]
  },
  {
   "cell_type": "code",
   "execution_count": 28,
   "metadata": {},
   "outputs": [],
   "source": [
    "for i in range (89):\n",
    "    bg_1= cv2.imread('E:\\\\Diseration\\\\Alex\\\\clast-analysis-data\\\\processed_data\\\\LABELLED\\\\N13920IMG-'+str(i)+'.jpg', cv2.IMREAD_COLOR) \n",
    "    fg_1= cv2.imread('E:\\\\Diseration\\\\Alex\\\\clast-analysis-data\\\\processed_data\\\\RAW\\\\N13920IMG-'+str(i)+'.jpg', cv2.IMREAD_COLOR)\n",
    "    blend = cv2.addWeighted(bg_1, 0.5,fg_1, 0.8, 0.0)\n",
    "    cv2.imwrite('E:\\\\Diseration\\\\Alex\\\\clast-analysis-data\\\\processed_data\\\\Overlay\\\\blended_0_'+str(i)+'.jpg', blend)\n",
    "    "
   ]
  },
  {
   "cell_type": "code",
   "execution_count": 29,
   "metadata": {},
   "outputs": [],
   "source": [
    "for i in range (89):\n",
    "    bg_2= cv2.imread('E:\\\\Diseration\\\\Alex\\\\clast-analysis-data\\\\processed_data\\\\LABELLED\\\\N13921IMG-'+str(i)+'.jpg', cv2.IMREAD_COLOR) \n",
    "    fg_2= cv2.imread('E:\\\\Diseration\\\\Alex\\\\clast-analysis-data\\\\processed_data\\\\RAW\\\\N13921IMG-'+str(i)+'.jpg', cv2.IMREAD_COLOR)\n",
    "    blend = cv2.addWeighted(bg_2, 0.5,fg_2, 0.8, 0.0)\n",
    "    cv2.imwrite('E:\\\\Diseration\\\\Alex\\\\clast-analysis-data\\\\processed_data\\\\Overlay\\\\blended_1_'+str(i)+'.jpg', blend)"
   ]
  },
  {
   "cell_type": "code",
   "execution_count": null,
   "metadata": {},
   "outputs": [],
   "source": []
  }
 ],
 "metadata": {
  "kernelspec": {
   "display_name": "Python 3",
   "language": "python",
   "name": "python3"
  },
  "language_info": {
   "codemirror_mode": {
    "name": "ipython",
    "version": 3
   },
   "file_extension": ".py",
   "mimetype": "text/x-python",
   "name": "python",
   "nbconvert_exporter": "python",
   "pygments_lexer": "ipython3",
   "version": "3.8.3"
  }
 },
 "nbformat": 4,
 "nbformat_minor": 4
}
