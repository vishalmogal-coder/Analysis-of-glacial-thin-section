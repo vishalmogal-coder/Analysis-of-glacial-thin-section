{
 "cells": [
  {
   "cell_type": "code",
   "execution_count": 25,
   "metadata": {},
   "outputs": [],
   "source": [
    "import cv2\n",
    "import numpy as np\n",
    "from PIL import Image"
   ]
  },
  {
   "cell_type": "code",
   "execution_count": 52,
   "metadata": {},
   "outputs": [],
   "source": [
    "# OverLaying Image\n",
    "checknumber=[8,17,26,35,44,53,62,71,80]\n",
    "for i in range(89):\n",
    "    if i not in checknumber:\n",
    "        Img1= Image.open('E:\\\\Diseration\\\\Alex\\\\clast-analysis-data\\\\processed_data\\\\LABELLED\\\\N13920IMG-'+str(i)+'.jpg') \n",
    "        Img2= Image.open('E:\\\\Diseration\\\\Alex\\\\clast-analysis-data\\\\processed_data\\\\RAW\\\\N13920IMG-'+str(i)+'.jpg')\n",
    "        image5 = Img1.convert(\"RGBA\")\n",
    "        image6 = Img2.convert(\"RGBA\")\n",
    "        alphaBlended1 = Image.blend(image5, image6, alpha=.6)\n",
    "        cv2.imwrite('E:\\\\Diseration\\\\Alex\\\\clast-analysis-data\\\\processed_data\\\\Overlay_alpha_blended\\\\blended_1_'+str(i)+'.jpg',np.array(alphaBlended1))\n",
    "\n"
   ]
  },
  {
   "cell_type": "code",
   "execution_count": 2,
   "metadata": {},
   "outputs": [],
   "source": [
    "# Overlaying Image\n",
    "for i in range (89):\n",
    "    bg_1= cv2.imread('E:\\\\Diseration\\\\Alex\\\\clast-analysis-data\\\\processed_data\\\\LABELLED\\\\N13920IMG-'+str(i)+'.jpg', cv2.IMREAD_COLOR) \n",
    "    fg_1= cv2.imread('E:\\\\Diseration\\\\Alex\\\\clast-analysis-data\\\\processed_data\\\\RAW\\\\N13920IMG-'+str(i)+'.jpg', cv2.IMREAD_COLOR)\n",
    "    blend = cv2.addWeighted(bg_1, 0.5,fg_1, 0.8, 0.0)\n",
    "    cv2.imwrite('E:\\\\Diseration\\\\Alex\\\\clast-analysis-data\\\\processed_data\\\\Overlay\\\\N13921IMG-'+str(i)+'.jpg', blend)\n",
    "    "
   ]
  },
  {
   "cell_type": "code",
   "execution_count": 3,
   "metadata": {},
   "outputs": [],
   "source": [
    "for i in range (89):\n",
    "    bg_2= cv2.imread('E:\\\\Diseration\\\\Alex\\\\clast-analysis-data\\\\processed_data\\\\LABELLED\\\\N13921IMG-'+str(i)+'.jpg', cv2.IMREAD_COLOR) \n",
    "    fg_2= cv2.imread('E:\\\\Diseration\\\\Alex\\\\clast-analysis-data\\\\processed_data\\\\RAW\\\\N13921IMG-'+str(i)+'.jpg', cv2.IMREAD_COLOR)\n",
    "    blend = cv2.addWeighted(bg_2, 0.5,fg_2, 0.8, 0.0)\n",
    "    cv2.imwrite('E:\\\\Diseration\\\\Alex\\\\clast-analysis-data\\\\processed_data\\\\Overlay\\\\N13921IMG-'+str(i)+'.jpg', blend)"
   ]
  },
  {
   "cell_type": "code",
   "execution_count": 3,
   "metadata": {},
   "outputs": [
    {
     "data": {
      "text/plain": [
       "-1"
      ]
     },
     "execution_count": 3,
     "metadata": {},
     "output_type": "execute_result"
    }
   ],
   "source": []
  },
  {
   "cell_type": "code",
   "execution_count": 8,
   "metadata": {},
   "outputs": [
    {
     "data": {
      "text/plain": [
       "-1"
      ]
     },
     "execution_count": 8,
     "metadata": {},
     "output_type": "execute_result"
    }
   ],
   "source": []
  },
  {
   "cell_type": "code",
   "execution_count": 55,
   "metadata": {},
   "outputs": [],
   "source": [
    "import cv2\n",
    "\n",
    "folder1=\"E:\\\\Diseration\\\\Alex\\\\clast-analysis-data\\\\processed_data\\\\RAW\\\\\"\n",
    "folder2=\"E:\\\\Diseration\\\\Alex\\\\clast-analysis-data\\\\processed_data\\\\LABELLED\\\\\"\n",
    "raw=[]\n",
    "longaxis=[]\n",
    "for filename in os.listdir(folder1):\n",
    "    img = cv2.imread(os.path.join(folder1,filename))\n",
    "    raw.append(img)\n",
    "for filename in os.listdir(folder2):\n",
    "    img = cv2.imread(os.path.join(folder2,filename))\n",
    "    longaxis.append(img)\n",
    "for i in range(len(raw)):\n",
    "    blend = cv2.addWeighted(longaxis[i], 0.5,raw[i], 0.5, 0.0)\n",
    "    cv2.imwrite('E:\\\\Diseration\\\\Alex\\\\clast-analysis-data\\\\processed_data\\\\newoverlayingtrail\\\\N13921IMG-'+str(i)+'.jpg', blend)\n",
    "    "
   ]
  },
  {
   "cell_type": "code",
   "execution_count": 12,
   "metadata": {},
   "outputs": [],
   "source": [
    "import cv2\n",
    "import os\n",
    "import numpy as np\n",
    "\n",
    "folder=\"E:\\\\Diseration\\\\Alex\\\\clast-analysis-data\\\\processed_data\\\\Manually Colored\\\\\"\n",
    "lower_red= np.array([20,10,200])\n",
    "upper_red=np.array([40, 40, 255])\n",
    "\n",
    "for filename in os.listdir(folder):\n",
    "    img = cv2.imread(os.path.join(folder,filename))\n",
    "    masking = cv2.inRange(img, lower_red, upper_red)\n",
    "    #masking= 255- masking\n",
    "    cv2.imwrite('E:\\\\Diseration\\\\Alex\\\\clast-analysis-data\\\\processed_data\\\\new Masking Image\\\\'+str(filename)+'.jpg', masking)\n",
    "    \n"
   ]
  },
  {
   "cell_type": "code",
   "execution_count": 9,
   "metadata": {},
   "outputs": [
    {
     "data": {
      "text/plain": [
       "array([[255, 255, 255, ..., 255, 255, 255],\n",
       "       [255, 255, 255, ..., 255, 255, 255],\n",
       "       [255, 255, 255, ..., 255, 255, 255],\n",
       "       ...,\n",
       "       [255, 255, 255, ..., 255, 255, 255],\n",
       "       [255, 255, 255, ..., 255, 255, 255],\n",
       "       [255, 255, 255, ..., 255, 255, 255]], dtype=uint8)"
      ]
     },
     "execution_count": 9,
     "metadata": {},
     "output_type": "execute_result"
    }
   ],
   "source": [
    "masking"
   ]
  },
  {
   "cell_type": "code",
   "execution_count": 13,
   "metadata": {},
   "outputs": [
    {
     "name": "stdout",
     "output_type": "stream",
     "text": [
      "Found 96 files belonging to 1 classes.\n"
     ]
    }
   ],
   "source": [
    "import tensorflow as tf\n",
    "masks = tf.keras.preprocessing.image_dataset_from_directory('Data/Masking Image/Training/',label_mode=None,color_mode=\"grayscale\",image_size=(256,256),batch_size=1)"
   ]
  },
  {
   "cell_type": "code",
   "execution_count": 3,
   "metadata": {},
   "outputs": [],
   "source": [
    "import matplotlib.pyplot as plt\n",
    "import cv2\n",
    "mask_data_folder='E:\\\\Diseration\\\\Alex\\\\clast-analysis-data\\\\processed_data\\\\new Masking Image\\\\'\n",
    "for filename in os.listdir(mask_data_folder):\n",
    "    img = cv2.imread(os.path.join(mask_data_folder,filename))\n",
    "    img=cv2.cvtColor(img,cv2.COLOR_BGR2GRAY)\n",
    "    cv2.imwrite('E:\\\\Diseration\\\\Alex\\\\clast-analysis-data\\\\processed_data\\\\grayscaleimage\\\\'+str(filename)+'.jpg', img)\n",
    "    "
   ]
  },
  {
   "cell_type": "code",
   "execution_count": null,
   "metadata": {},
   "outputs": [],
   "source": []
  },
  {
   "cell_type": "code",
   "execution_count": null,
   "metadata": {},
   "outputs": [],
   "source": []
  }
 ],
 "metadata": {
  "kernelspec": {
   "display_name": "Python 3",
   "language": "python",
   "name": "python3"
  },
  "language_info": {
   "codemirror_mode": {
    "name": "ipython",
    "version": 3
   },
   "file_extension": ".py",
   "mimetype": "text/x-python",
   "name": "python",
   "nbconvert_exporter": "python",
   "pygments_lexer": "ipython3",
   "version": "3.8.3"
  }
 },
 "nbformat": 4,
 "nbformat_minor": 4
}
